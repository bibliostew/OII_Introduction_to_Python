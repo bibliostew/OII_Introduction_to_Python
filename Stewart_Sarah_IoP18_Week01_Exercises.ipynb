{
 "cells": [
  {
   "cell_type": "markdown",
   "metadata": {},
   "source": [
    "**IoP Lecture 1. Exercises.** "
   ]
  },
  {
   "cell_type": "markdown",
   "metadata": {},
   "source": [
    "Week 1. Formative Exercise #1. \n",
    "================\n",
    "\n",
    "Below are a series of exercises. You are expected to complete all of them. Please submit your file through Canvas. \n",
    "\n",
    "Remember to name this file correctly. So if your name is \"Alan Turing\", the file you submit should be:\n",
    "Turing_Alan_IoP18_Week01_Exercises.ipynb\n",
    "\n",
    "Be careful that the extension is not .json. **Save the file now with the right name where it says Last_First before you continue.** \n"
   ]
  },
  {
   "cell_type": "code",
   "execution_count": 2,
   "metadata": {
    "collapsed": true
   },
   "outputs": [
    {
     "name": "stdout",
     "output_type": "stream",
     "text": [
      "Sarah Stewart\n"
     ]
    }
   ],
   "source": [
    "# String manipulation 1. Printing strings\n",
    "\n",
    "# Please print your name in the output. \n",
    "# Use two variables, FIRST and LAST. \n",
    "# If your name does not work with these variables, \n",
    "# then adjust how you print it, but do not destroy FIRST and LAST.\n",
    "\n",
    "\n",
    "# ANSWER BELOW HERE\n",
    "#*********************************\n",
    "\n",
    "FIRST = 'Sarah ' \n",
    "LAST =  'Stewart'\n",
    "print(FIRST+LAST)"
   ]
  },
  {
   "cell_type": "code",
   "execution_count": null,
   "metadata": {
    "collapsed": true
   },
   "outputs": [],
   "source": [
    "# Instructor comments below here. \n",
    "#*********************************\n",
    "\n",
    "mark_q1 = None  # out of 2. \n"
   ]
  },
  {
   "cell_type": "code",
   "execution_count": 10,
   "metadata": {},
   "outputs": [
    {
     "name": "stdout",
     "output_type": "stream",
     "text": [
      "Hi there, my name is Sarah Stewart. \n",
      "You can call me \"Sarah\".\n"
     ]
    }
   ],
   "source": [
    "# String manuipulation 2. Special string characters\n",
    "\n",
    "# Print your name like the following example (including the spaces) WITHOUT using three quotes. \n",
    "# Use one line for your code and replace your name below where appropriate.  \n",
    "'''\n",
    "Hi there, my name is Bernard Hogan.\n",
    "\n",
    "You can call me \"Bernie\".\n",
    "'''\n",
    "#########\n",
    "# Code to be altered: \n",
    "\n",
    "# ANSWER BELOW HERE\n",
    "\n",
    "print('Hi there, my name is Sarah Stewart. \\nYou can call me \\\"Sarah\\\".')\n",
    "\n"
   ]
  },
  {
   "cell_type": "code",
   "execution_count": null,
   "metadata": {
    "collapsed": true
   },
   "outputs": [],
   "source": [
    "# Instructor comments below here. \n",
    "#*********************************\n",
    "\n",
    "mark_q2 = None  # out of 2. \n"
   ]
  },
  {
   "cell_type": "code",
   "execution_count": 10,
   "metadata": {
    "collapsed": true
   },
   "outputs": [
    {
     "name": "stdout",
     "output_type": "stream",
     "text": [
      "Happy Birthday to you!Happy Birthday to you!Happy Birthday  dear Sarah Happy Birthday to you!\n"
     ]
    }
   ],
   "source": [
    "# String manipulation 3. Concatenating\n",
    "\n",
    "v1 = \"Happy Birthday\"\n",
    "v2 = \"to you\"\n",
    "v3 = \"dear\"\n",
    "\n",
    "# Using the variables above, whitespace characters and your FIRST name, print the lyrics to Happy Birthday.\n",
    "# This would be \n",
    "'''\n",
    "Happy Birthday to you\n",
    "Happy Birthday to you \n",
    "Happy Birthday dear Example\n",
    "Happy Birthday to you\n",
    "'''\n",
    "# ANSWER BELOW HERE\n",
    "\n",
    "FIRST = 'Sarah '\n",
    "v1 = 'Happy Birthday '\n",
    "v2 = 'to you!'\n",
    "v3 = ' dear '\n",
    "\n",
    "print((v1+v2)+(v1+v2)+(v1+v3)+FIRST+(v1+v2))\n",
    "\n"
   ]
  },
  {
   "cell_type": "code",
   "execution_count": null,
   "metadata": {
    "collapsed": true
   },
   "outputs": [],
   "source": [
    "# Instructor comments below here. \n",
    "#*********************************\n",
    "\n",
    "mark_q3 = None  # out of 2. \n"
   ]
  },
  {
   "cell_type": "code",
   "execution_count": 15,
   "metadata": {
    "collapsed": true
   },
   "outputs": [
    {
     "name": "stdout",
     "output_type": "stream",
     "text": [
      "MAKE THIS UPPER CASE!\n",
      "make this lower case.\n",
      "Make This Title Case.\n"
     ]
    }
   ],
   "source": [
    "# String manipulation 4. Transforming\n",
    "\n",
    "# Messing with cases. \n",
    "\n",
    "v1 = \"Make this upper case!\"\n",
    "v2 = \"Make this lower case.\"\n",
    "v3 = \"Make this title case.\"\n",
    "\n",
    "# ANSWER BELOW HERE\n",
    "\n",
    "print(v1.upper())\n",
    "print(v2.lower())\n",
    "print(v3.title())\n"
   ]
  },
  {
   "cell_type": "code",
   "execution_count": null,
   "metadata": {
    "collapsed": true
   },
   "outputs": [],
   "source": [
    "# Instructor comments below here. \n",
    "#*********************************\n",
    "\n",
    "mark_q4 = None  # out of 3. \n"
   ]
  },
  {
   "cell_type": "code",
   "execution_count": 21,
   "metadata": {},
   "outputs": [
    {
     "name": "stdout",
     "output_type": "stream",
     "text": [
      "To get 16 you can use the * operator: 16\n",
      "To get 16 you can use the + operator: 16\n",
      "To get 16 you can use the - operator: 16\n",
      "To get 16 you can use the // operator: 16\n",
      "To get 16 you can use the ** operator: 16\n"
     ]
    }
   ],
   "source": [
    "# Number manipulation 1. Integers \n",
    "\n",
    "# The number 16! \n",
    "# Print six different ways to get the number sixteen as a result of\n",
    "# using five different operators you come up with plus the one example. \n",
    "\n",
    "# ANSWER BELOW HERE\n",
    "# To get you started:\n",
    "\n",
    "print(\"To get 16 you can use the * operator:\", 4*4)\n",
    "print('To get 16 you can use the + operator:', 10+6)\n",
    "print('To get 16 you can use the - operator:', 20-4)\n",
    "print('To get 16 you can use the // operator:', 64//4)\n",
    "print('To get 16 you can use the ** operator:', 2**4)\n",
    "\n"
   ]
  },
  {
   "cell_type": "code",
   "execution_count": null,
   "metadata": {
    "collapsed": true
   },
   "outputs": [],
   "source": [
    "# Instructor comments below here. \n",
    "#*********************************\n",
    "\n",
    "\n",
    "mark_q5 = None  # out of 3. \n"
   ]
  },
  {
   "cell_type": "code",
   "execution_count": null,
   "metadata": {},
   "outputs": [],
   "source": []
  },
  {
   "cell_type": "code",
   "execution_count": 23,
   "metadata": {},
   "outputs": [
    {
     "name": "stdout",
     "output_type": "stream",
     "text": [
      "0.75\n",
      "0.25\n",
      "1.0\n"
     ]
    }
   ],
   "source": [
    "# Number manipulation 2. Floating point numbers \n",
    "\n",
    "# Generate two fractions that together would compute a whole number \n",
    "# where the two fractions themselves have repeating digits. \n",
    "# The example from class used 1/3 + 1/3 + 1/3 = 1.0.\n",
    "# Print the two numbers, combine them, then print the result. D\n",
    "# Does the result print as a whole number? Can you find one that doesn't? (optional) \n",
    "\n",
    "# ANSWER BELOW HERE\n",
    "\n",
    "x=3/4\n",
    "y=1/4\n",
    "print(x)\n",
    "print(y)\n",
    "print(x+y)\n"
   ]
  },
  {
   "cell_type": "code",
   "execution_count": null,
   "metadata": {
    "collapsed": true
   },
   "outputs": [],
   "source": [
    "# Instructor comments below here. \n",
    "#*********************************\n",
    "\n",
    "mark_q6 = None  # out of 2. \n"
   ]
  },
  {
   "cell_type": "code",
   "execution_count": null,
   "metadata": {
    "collapsed": true
   },
   "outputs": [],
   "source": [
    "# Dictionary manipulation 1. \n",
    "\n",
    "# Build a dictionary with three items where the KEY is a country and the VALUE is the capital. \n",
    "# Print the capitals by querying the keys. \n",
    "\n",
    "# ANSWER BELOW HERE\n",
    "\n",
    "example_dict\n",
    "\n"
   ]
  },
  {
   "cell_type": "code",
   "execution_count": null,
   "metadata": {
    "collapsed": true
   },
   "outputs": [],
   "source": [
    "# Instructor comments below here. \n",
    "#*********************************\n",
    "\n",
    "mark_q7 = None  # out of 3. \n"
   ]
  },
  {
   "cell_type": "code",
   "execution_count": null,
   "metadata": {
    "collapsed": true
   },
   "outputs": [],
   "source": [
    "# Dictionary manipulation 2. \n",
    "\n",
    "# Here is a dictionary\n",
    "\n",
    "d2 = {\"Red\":\"Apple\", \"Yellow\":\"Banana\", \"Orange\":\"Orange\"}\n",
    "\n",
    "# Replace the 'apple' value with 'cherry' by assigning a new value.\n",
    "# Print all of the items. \n",
    "\n",
    "# ANSWER BELOW HERE\n",
    "\n",
    "\n",
    "\n"
   ]
  },
  {
   "cell_type": "code",
   "execution_count": null,
   "metadata": {
    "collapsed": true
   },
   "outputs": [],
   "source": [
    "# Instructor comments below here. \n",
    "#*********************************\n",
    "\n",
    "mark_q8 = None  # out of 2. \n",
    "\n"
   ]
  },
  {
   "cell_type": "code",
   "execution_count": null,
   "metadata": {},
   "outputs": [],
   "source": [
    "# Dictionary manipulation 3. \n",
    "\n",
    "# Here is a dictionary\n",
    "\n",
    "d3  = {\"a\":\"alpha\", \"b\":\"bravo\", \"c\":\"charlie\", \"d\":\"delta\", \"e\":\"echo\", \"f\":\"foxtrot\"}\n",
    "\n",
    "# By querying this dictionary one item at a time, print out an acrostic.\n",
    "# For example, if you wanted to print \"beef\" it would look like:\n",
    "# bravo\n",
    "# echo\n",
    "# echo\n",
    "# foxtrot\n",
    "\n",
    "# ANSWER BELOW HERE\n",
    "\n",
    "\n"
   ]
  },
  {
   "cell_type": "code",
   "execution_count": null,
   "metadata": {
    "collapsed": true
   },
   "outputs": [],
   "source": [
    "# Instructor comments below here. \n",
    "#*********************************\n",
    "\n",
    "mark_q9 = None   # out of 3. \n"
   ]
  },
  {
   "cell_type": "code",
   "execution_count": null,
   "metadata": {
    "collapsed": true
   },
   "outputs": [],
   "source": [
    "# List manipulation 1. \n",
    "\n",
    "# Here is a list \n",
    "\n",
    "messy_list = [\"third\",\"first\",\"second\",\"fourth\",\"sixth\"]\n",
    "\n",
    "# messy_list is a mess and needs to be in the correct order. \n",
    "# Create a new list, clean_list, with the elements in the right order.\n",
    "# Include a zeroth and a fifth element, but otherwise, use list indices from messy_list\n",
    "# to insert elements into clean_list. Print the new list. \n",
    "\n",
    "# ANSWER BELOW HERE\n",
    "\n",
    "\n",
    "\n"
   ]
  },
  {
   "cell_type": "code",
   "execution_count": 1,
   "metadata": {
    "collapsed": true
   },
   "outputs": [],
   "source": [
    "# Instructor comments below here. \n",
    "#*********************************\n",
    "\n",
    "mark_q10 =  None # out of 3. \n"
   ]
  },
  {
   "cell_type": "code",
   "execution_count": null,
   "metadata": {
    "collapsed": true
   },
   "outputs": [],
   "source": [
    "totalmark = mark_q1 + mark_q2 + mark_q3 + mark_q4 + mark_q5 + mark_q6 + mark_q7 + mark_q8 + mark_q9 + mark_q10\n",
    "\n",
    "print(\"The total mark is %d out of a possible 25\" % (totalmark) )"
   ]
  }
 ],
 "metadata": {
  "kernelspec": {
   "display_name": "Python 3",
   "language": "python",
   "name": "python3"
  },
  "language_info": {
   "codemirror_mode": {
    "name": "ipython",
    "version": 3
   },
   "file_extension": ".py",
   "mimetype": "text/x-python",
   "name": "python",
   "nbconvert_exporter": "python",
   "pygments_lexer": "ipython3",
   "version": "3.6.5"
  }
 },
 "nbformat": 4,
 "nbformat_minor": 2
}
