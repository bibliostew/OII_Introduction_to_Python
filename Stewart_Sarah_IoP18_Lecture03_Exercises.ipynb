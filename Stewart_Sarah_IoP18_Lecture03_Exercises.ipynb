{
 "cells": [
  {
   "cell_type": "markdown",
   "metadata": {},
   "source": [
    "Lecture 3 Formative Exercises\n",
    "====\n",
    "For your assignment, we will be asking you questions about error handling, functions, and file input and output. Good luck!"
   ]
  },
  {
   "cell_type": "code",
   "execution_count": 15,
   "metadata": {},
   "outputs": [
    {
     "name": "stdout",
     "output_type": "stream",
     "text": [
      "The RedundantRedundantRedundant Department of RedundancyRedundancy\n"
     ]
    }
   ],
   "source": [
    "# Exercise 1: The Redundant Department of Redundancy.\n",
    "\n",
    "# Build a function that takes two integer numbers as its input, n1 and n2,\n",
    "# and prints 'The X Department of Y',\n",
    "# where X stands for the word 'Redundant' n1 times,\n",
    "# and Y stands for the word 'Redundancy' n2 times.\n",
    "# Bear in mind that the arbitrary numbers n1 and n2 might also be zero.\n",
    "\n",
    "# Here are some examples of inputs and outputs this function might produce:\n",
    "#\n",
    "# n1, n2 -> output_string\n",
    "# 0, 0   -> The Department\n",
    "# 0, 1   -> The Department of Redundancy \n",
    "# 1, 1   -> The Redundant Department of Redundancy\n",
    "# 2, 0   -> The Redundant Redundant Department \n",
    "# 3, 2   -> The Redundant Redundant Redundant Department of Redundancy Redundancy \n",
    "\n",
    "# Write a function that prints the output string given n1 and n2.\n",
    "\n",
    "#################################\n",
    "# Your code below here\n",
    "\n",
    "def RedundantDept(n1,n2):\n",
    "    X = n1*\"Redundant\"\n",
    "    Y = n2*\"Redundancy\"\n",
    "    print(\"The\",X,\"Department of\",Y)\n",
    "    \n",
    "RedundantDept(3,2)\n"
   ]
  },
  {
   "cell_type": "code",
   "execution_count": 5,
   "metadata": {
    "collapsed": true
   },
   "outputs": [],
   "source": [
    "# Instructor comments below here. \n",
    "#*********************************\n",
    "\n",
    "comments = '''\n",
    "\n",
    "'''\n",
    "\n",
    "mark_q1 = None # out of 5"
   ]
  },
  {
   "cell_type": "code",
   "execution_count": 25,
   "metadata": {},
   "outputs": [
    {
     "name": "stdout",
     "output_type": "stream",
     "text": [
      "<class 0 >\n"
     ]
    }
   ],
   "source": [
    "# Exercise 2: The Department of Safe Redundancies\n",
    "\n",
    "# What happens if you run the code from the previous exercise,\n",
    "# but instead of a pair of integers, you give it strings, lists, dictionaries, a floating point number like 0.5,\n",
    "# or anything that is not an integer?\n",
    "#\n",
    "# For this exercise, adapt your code from the previous exercise so that it uses a 'try' statement,\n",
    "# and when n1 or n2 are NOT numbers, catches the error and prints the type of n1 and n2.\n",
    "\n",
    "# Note: the type of a variable x is given by type(x)\n",
    "\n",
    "# Here are some examples of inputs and outputs this function might produce:\n",
    "# n1, n2     > output string\n",
    "# 0, 0       -> The Department\n",
    "# 2, 0       -> The Redundant Redundant Department \n",
    "# 3, 2       -> The Redundant Redundant Redundant Department of Redundancy Redundancy \n",
    "# 1, '2'     -> <class 'int'> <class 'str'>\n",
    "# [1], 2.5   -> <class 'list'> <class 'float'>\n",
    "# [1,2], '3' -> <class 'list'> <class 'str'>\n",
    "\n",
    "#################################\n",
    "# Your code below here\n",
    "\n",
    "def RedundantDept(n1,n2):\n",
    "    try:\n",
    "        X = n1*\"Redundant\"\n",
    "        Y = n2*\"Redundancy\"\n",
    "        print(\"The\",X,\"Department of\",Y)\n",
    "    except TypeError as e:\n",
    "        e = str()\n",
    "        e = list()\n",
    "        e = float()\n",
    "        e = int()\n",
    "        print(\"<class\",e,\">\")\n",
    "\n"
   ]
  },
  {
   "cell_type": "code",
   "execution_count": 24,
   "metadata": {},
   "outputs": [],
   "source": [
    "# Instructor comments below here. \n",
    "#*********************************\n",
    "\n",
    "comments = '''\n",
    "\n",
    "'''\n",
    "\n",
    "mark_q2 = None # out of 5"
   ]
  },
  {
   "cell_type": "code",
   "execution_count": 28,
   "metadata": {},
   "outputs": [
    {
     "ename": "TypeError",
     "evalue": "'int' object is not iterable",
     "output_type": "error",
     "traceback": [
      "\u001b[1;31m---------------------------------------------------------------------------\u001b[0m",
      "\u001b[1;31mTypeError\u001b[0m                                 Traceback (most recent call last)",
      "\u001b[1;32m<ipython-input-28-2b585a496cbb>\u001b[0m in \u001b[0;36m<module>\u001b[1;34m()\u001b[0m\n\u001b[0;32m     42\u001b[0m             \u001b[0mprint\u001b[0m\u001b[1;33m(\u001b[0m\u001b[0mi\u001b[0m\u001b[1;33m)\u001b[0m \u001b[1;32min\u001b[0m \u001b[0mrange\u001b[0m\u001b[1;33m(\u001b[0m\u001b[0mK\u001b[0m\u001b[1;33m)\u001b[0m\u001b[1;33m\u001b[0m\u001b[0m\n\u001b[0;32m     43\u001b[0m \u001b[1;33m\u001b[0m\u001b[0m\n\u001b[1;32m---> 44\u001b[1;33m \u001b[0mFunction\u001b[0m\u001b[1;33m(\u001b[0m\u001b[1;33m)\u001b[0m\u001b[1;33m\u001b[0m\u001b[0m\n\u001b[0m",
      "\u001b[1;32m<ipython-input-28-2b585a496cbb>\u001b[0m in \u001b[0;36mFunction\u001b[1;34m(N, K)\u001b[0m\n\u001b[0;32m     36\u001b[0m \u001b[1;33m\u001b[0m\u001b[0m\n\u001b[0;32m     37\u001b[0m \u001b[1;32mdef\u001b[0m \u001b[0mFunction\u001b[0m\u001b[1;33m(\u001b[0m\u001b[0mN\u001b[0m\u001b[1;33m=\u001b[0m\u001b[1;36m10\u001b[0m\u001b[1;33m,\u001b[0m\u001b[0mK\u001b[0m\u001b[1;33m=\u001b[0m\u001b[1;36m20\u001b[0m\u001b[1;33m)\u001b[0m\u001b[1;33m:\u001b[0m\u001b[1;33m\u001b[0m\u001b[0m\n\u001b[1;32m---> 38\u001b[1;33m     \u001b[1;32mfor\u001b[0m \u001b[0mi\u001b[0m \u001b[1;32min\u001b[0m \u001b[0msmall_random_number\u001b[0m\u001b[1;33m:\u001b[0m\u001b[1;33m\u001b[0m\u001b[0m\n\u001b[0m\u001b[0;32m     39\u001b[0m         \u001b[0mprint\u001b[0m\u001b[1;33m(\u001b[0m\u001b[0mi\u001b[0m\u001b[1;33m)\u001b[0m \u001b[1;32min\u001b[0m \u001b[0mrange\u001b[0m\u001b[1;33m(\u001b[0m\u001b[0mN\u001b[0m\u001b[1;33m)\u001b[0m\u001b[1;33m\u001b[0m\u001b[0m\n\u001b[0;32m     40\u001b[0m     \u001b[1;32melse\u001b[0m\u001b[1;33m:\u001b[0m\u001b[1;33m\u001b[0m\u001b[0m\n",
      "\u001b[1;31mTypeError\u001b[0m: 'int' object is not iterable"
     ]
    }
   ],
   "source": [
    "# Exercise 3: The Department of Safe Random Numbers\n",
    "\n",
    "# For this exercise, we will use numpy, the numerical-python (num-py, get it?) library.\n",
    "# We do this by importing it and giving it a nickname, np in this case:\n",
    "\n",
    "import numpy as np \n",
    "\n",
    "# We will be using randint, which is a function inside numpy.random, which is a module for random functions within numpy.\n",
    "\n",
    "# To produce a random integer ranging from 0 to 9 we call:\n",
    "small_random_number = np.random.randint(10)\n",
    "\n",
    "# To produce a random integer ranging from 0 to 99 we call:\n",
    "big_random_number = np.random.randint(100)\n",
    "\n",
    "# For this exercise, write a function that:\n",
    "# - Takes two integers, N and K, as input.\n",
    "# - The default values for N and K should be 10 and 20, respectively.\n",
    "# - Generates a series of K pairs of random integers, each one ranging from 0 to N-1.\n",
    "# - For each pair of integers, it divides one by the other, and prints the output\n",
    "# - If divides by zero, catches the error and prints \"cannot divide X by zero\",\n",
    "#   where X is the number that was going to be divided by zero.\n",
    "\n",
    "# Notes:\n",
    "# if the random integers are 1 and 2, it should print 0.5.\n",
    "# if the random integers are 3 and 0, it should print \"cannot divide 3 by zero\".\n",
    "# if N = 10, it should be producing random numbers from 0 to 9.\n",
    "# if K = 20, it should try 20 pairs of random integers.\n",
    "\n",
    "#################################\n",
    "# Your code below here\n",
    "\n",
    "import numpy as np\n",
    "small_random_number = np.random.randint(10)\n",
    "big_random_number = np.random.randint(100)\n",
    "\n",
    "def Function(N=10,K=20):\n",
    "    for i in small_random_number:\n",
    "        print(i) in range(N)\n",
    "    else:\n",
    "        for i in big_random_number:\n",
    "            print(i) in range(K)\n",
    "\n",
    "Function()\n",
    "\n"
   ]
  },
  {
   "cell_type": "code",
   "execution_count": 26,
   "metadata": {
    "collapsed": true
   },
   "outputs": [],
   "source": [
    "# Instructor comments below here. \n",
    "#*********************************\n",
    "\n",
    "comments = '''\n",
    "\n",
    "'''\n",
    "\n",
    "mark_q3 = None # out of 5"
   ]
  },
  {
   "cell_type": "code",
   "execution_count": 32,
   "metadata": {},
   "outputs": [
    {
     "ename": "NameError",
     "evalue": "name 'newphrase' is not defined",
     "output_type": "error",
     "traceback": [
      "\u001b[1;31m---------------------------------------------------------------------------\u001b[0m",
      "\u001b[1;31mNameError\u001b[0m                                 Traceback (most recent call last)",
      "\u001b[1;32m<ipython-input-32-29ea96c7e210>\u001b[0m in \u001b[0;36m<module>\u001b[1;34m()\u001b[0m\n\u001b[0;32m     48\u001b[0m     \u001b[1;32mreturn\u001b[0m \u001b[0mnewphrase\u001b[0m\u001b[1;33m\u001b[0m\u001b[0m\n\u001b[0;32m     49\u001b[0m \u001b[1;33m\u001b[0m\u001b[0m\n\u001b[1;32m---> 50\u001b[1;33m \u001b[0mfileout\u001b[0m\u001b[1;33m.\u001b[0m\u001b[0mwrite\u001b[0m\u001b[1;33m=\u001b[0m\u001b[1;33m(\u001b[0m\u001b[0mnewphrase\u001b[0m\u001b[1;33m)\u001b[0m\u001b[1;33m\u001b[0m\u001b[0m\n\u001b[0m\u001b[0;32m     51\u001b[0m \u001b[0mfileout\u001b[0m\u001b[1;33m.\u001b[0m\u001b[0mclose\u001b[0m\u001b[1;33m(\u001b[0m\u001b[1;33m)\u001b[0m\u001b[1;33m\u001b[0m\u001b[0m\n\u001b[0;32m     52\u001b[0m \u001b[1;33m\u001b[0m\u001b[0m\n",
      "\u001b[1;31mNameError\u001b[0m: name 'newphrase' is not defined"
     ]
    }
   ],
   "source": [
    "# Exercise 4: Code poetry\n",
    "#\n",
    "# Take the following phrase \n",
    "# \"My name is Ozymandias, King of Kings; Look at my Works, ye Mighty, and despair! Nothing beside remains.\"\n",
    "# (it comes from a poem by Percy Shelley.)\n",
    "#\n",
    "# Step 1. Write that phrase to a file called descending_phrase.txt. \n",
    "# Step 2. Run the remove_a_word function below on that phrase so that it removes a random word from the phrase\n",
    "# Step 3. Write the new phrase to the file, on a new line. \n",
    "# Step 4. Continue like this until the phrase has no words left.\n",
    "# Step 5. Close the file. \n",
    "# Step 6. Open the file in read mode, and print its output. This way you can check if it worked.\n",
    "\n",
    "#\n",
    "# Note 1. You can create the output and dump to a file or dump line by line. \n",
    "#         Writing in one go is harder on RAM, writing line by line is harder on the HDD.\n",
    "#         In some contexts, either one can be fair game:\n",
    "#         printing 100 lines per second would be hard for the hard drive,\n",
    "#         just like printing 100MB of text at once would be hard for the RAM.\n",
    "#         But for this exercise, both should be fine.\n",
    "\n",
    "import numpy as np\n",
    "\n",
    "def remove_a_word(phrase):\n",
    "    phrase_as_list = phrase.split(' ')\n",
    "    index = np.random.randint(len(phrase_as_list))\n",
    "    phrase_as_list.pop(index)\n",
    "    newphrase = ' '.join(phrase_as_list)\n",
    "    return newphrase\n",
    "\n",
    "#################################\n",
    "# Your code below here\n",
    "\n",
    "#Writing the file, creating new phrase, closing file:\n",
    "\n",
    "fileout=open(\"descending_phrase.txt\", \"w\")\n",
    "fileout.write=(\"My name is Ozymandias, King of Kings; Look at my Works, ye Mighty, and despair! Nothing beside remains.\")\n",
    "\n",
    "import numpy as np\n",
    "\n",
    "phrase = \"My name is Ozymandias, King of Kings; Look at my Works, ye Mighty, and despair! Nothing beside remains.\"\n",
    "\n",
    "def remove_a_word(phrase):\n",
    "    phrase_as_list = phrase.split(' ')\n",
    "    index = np.random.randint(len(phrase_as_list))\n",
    "    phrase_as_list.pop(index)\n",
    "    newphrase = ' '.join(phrase_as_list)\n",
    "    return newphrase\n",
    "\n",
    "fileout.write=(newphrase)\n",
    "fileout.close()\n",
    "\n",
    "#opening new file to read contents:\n",
    "\n",
    "filein=open(\"descending_phrase.txt\", 'r')\n",
    "\n",
    "for i in filein:\n",
    "    print(i)\n",
    "    \n",
    "filein.close()\n",
    "\n",
    "\n",
    "\n",
    "\n"
   ]
  },
  {
   "cell_type": "code",
   "execution_count": 33,
   "metadata": {},
   "outputs": [],
   "source": [
    "# Instructor comments below here. \n",
    "#*********************************\n",
    "\n",
    "comments = '''\n",
    "\n",
    "'''\n",
    "\n",
    "mark_q4 = None # out of 5"
   ]
  },
  {
   "cell_type": "code",
   "execution_count": 35,
   "metadata": {},
   "outputs": [
    {
     "ename": "SyntaxError",
     "evalue": "invalid syntax (<ipython-input-35-7ee45b68a5cb>, line 35)",
     "output_type": "error",
     "traceback": [
      "\u001b[1;36m  File \u001b[1;32m\"<ipython-input-35-7ee45b68a5cb>\"\u001b[1;36m, line \u001b[1;32m35\u001b[0m\n\u001b[1;33m    if contents=True:\u001b[0m\n\u001b[1;37m               ^\u001b[0m\n\u001b[1;31mSyntaxError\u001b[0m\u001b[1;31m:\u001b[0m invalid syntax\n"
     ]
    }
   ],
   "source": [
    "# Exercise 5: Make your own writer\n",
    "\n",
    "# Write your own function that writes to a file\n",
    "# This function should take three arguments:\n",
    "# - The name of the file\n",
    "# - The text to be written on the file\n",
    "# - A boolean (i.e. True/False) variable for whether the file should be overwritten, in case the file already exists.\n",
    "#   This variable should have a default value of True.\n",
    "\n",
    "# After reading the arguments, the function should cover:\n",
    "# Step 1. Try opening the file in read mode ('r'). If it can open the file, it means the file already exists.\n",
    "# Step 2. If the file exists, ask: should we overwrite it?\n",
    "# Step 3. If it should overwrite it... then overwrite it. Save the text there and print a message saying \"File overwritten\".\n",
    "# Step 4: If it should not overwrite it... then never mind. Just print a message saying \"Mission aborted\".\n",
    "# Step 5. Now, if the file doesn't exist, trying to open it in read mode will return an error of the IOError kind. \n",
    "# Step 6. In case the file doesn't exist, catch that IOError, and open the file in write mode ('w').\n",
    "# Step 7. Once the new file is open, you don't need to worry about overwriting, \n",
    "#         so simply write the content there, print a message saying \"Content written to new file\".\n",
    "\n",
    "# This should test your knowledge of if/else, try/except, functions, and reading/writing files.\n",
    "\n",
    "#################################\n",
    "# Your code below here\n",
    "\n",
    "filename = \"testfunction.txt\"\n",
    "\n",
    "with open(filename, 'w') as file_object:\n",
    "    file_object.write(\"This file exists\")\n",
    "\n",
    "def testfunction():\n",
    "    print(\"This file exists\")\n",
    "    with open(\"testfunction.txt\", 'r') as file_object:\n",
    "        contents=file_object.read()\n",
    "        print(contents)\n",
    "    if contents=True:\n",
    "        print(\"Should we overwrite it? Y/N\")\n",
    "        if input(Y):\n",
    "            with open(\"testfunction.txt\", 'r') as file_object:\n",
    "                file_object.write()\n",
    "                print(\"File Overwritten\")\n",
    "        else:\n",
    "            if input(N):\n",
    "                with open(\"testfunction.txt\", 'r') as file_object:\n",
    "                    file_object.write()\n",
    "                    print(\"Mission aborted\")\n",
    "                    \n",
    "try:\n",
    "with open(\"testfunction.txt\") as file_object:\n",
    "    for line in file_object:\n",
    "        print(line.rstrip())\n",
    "except:\n",
    "    for IOError in file_object:\n",
    "        with open(\"testfunction.txt\", 'r') as file_object:\n",
    "            file_object.write()\n",
    "            print(\"Content written to new file\")\n",
    "    \n"
   ]
  },
  {
   "cell_type": "code",
   "execution_count": 36,
   "metadata": {},
   "outputs": [],
   "source": [
    "# Instructor comments below here. \n",
    "#*********************************\n",
    "\n",
    "comments = '''\n",
    "\n",
    "'''\n",
    "\n",
    "mark_q5 = None # out of 5"
   ]
  },
  {
   "cell_type": "code",
   "execution_count": null,
   "metadata": {},
   "outputs": [],
   "source": [
    "############################################################\n",
    "# Marks tally below here (should be calculated automatically)\n",
    "\n",
    "marks = [mark_q1, mark_q2, mark_q3, mark_q4, mark_q5]\n",
    "\n",
    "for i, item in enumerate(marks):\n",
    "    try: \n",
    "        print(\"Q%d: %.1f\" %(i+1, item))\n",
    "    except TypeError:\n",
    "        print(\"Question %s has not been given a mark. Please check.\" % str(i+1))\n",
    "\n",
    "try: \n",
    "    print(\"The total mark is %.1f out of a possible 25\" % sum(marks) )\n",
    "except TypeError:\n",
    "    print(\"A question was not marked. Total pending. Please see above.\")"
   ]
  }
 ],
 "metadata": {
  "kernelspec": {
   "display_name": "Python 3",
   "language": "python",
   "name": "python3"
  },
  "language_info": {
   "codemirror_mode": {
    "name": "ipython",
    "version": 3
   },
   "file_extension": ".py",
   "mimetype": "text/x-python",
   "name": "python",
   "nbconvert_exporter": "python",
   "pygments_lexer": "ipython3",
   "version": "3.7.0"
  }
 },
 "nbformat": 4,
 "nbformat_minor": 2
}
